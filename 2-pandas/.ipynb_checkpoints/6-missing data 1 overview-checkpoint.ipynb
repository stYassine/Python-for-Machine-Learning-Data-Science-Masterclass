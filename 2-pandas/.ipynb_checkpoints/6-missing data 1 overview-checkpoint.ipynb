{
 "cells": [
  {
   "cell_type": "markdown",
   "metadata": {},
   "source": [
    "- Real world data will often be missing data for a variety of reasons.\n",
    "- Many machine learning models and statistical methods can not work with missing data points, in which case we need to decide what to do with the missing data.\n",
    "<br><br>\n",
    "- When reading in missing values, pandas will display them as NaN values.\n",
    "- Thereare also never specialized null pandas values such as pd.NaT to imply the value missing should be a timestamp.\n",
    "- Options for missing data :\n",
    "    - 1 Keep it\n",
    "    - 2 Remove it\n",
    "    - 3 Replace it\n",
    "<br><br>\n",
    "- Note, there is never 100% correct approach that applies to all circumstancesn it all depends on the exact situation you encouter!"
   ]
  },
  {
   "cell_type": "markdown",
   "metadata": {},
   "source": [
    "### 1 - Keeping the missing data\n",
    "\n",
    "##### - PROS:\n",
    "    - Easiest to do\n",
    "    - Does not manipulate or change the true data\n",
    "\n",
    "##### - CONS\n",
    "    - Many methods do not support NaN\n",
    "    - Often there are reasonable guesses"
   ]
  },
  {
   "cell_type": "markdown",
   "metadata": {},
   "source": [
    "### 2 - Dropping or removing the missing data\n",
    "\n",
    "##### - PROS:\n",
    "    - Easy to do.\n",
    "    - Can be based on rules.\n",
    "\n",
    "##### - CONS\n",
    "    - Potential to lose a lot data or useful information\n",
    "    - Limits rained omdels for future data.\n",
    "    \n",
    "###### Dropping  a row :\n",
    "    - Clearly this data point as a row should probably be dropped\n",
    "<img src=\"./assets/6/2-drop_1.png\" width=\"500\">\n",
    "\n",
    "###### Dropping  a column:\n",
    "    - Good choice if evry row is missing that particular feature\n",
    "<img src=\"./assets/6/2-drop_2.png\" width=\"500\">"
   ]
  },
  {
   "cell_type": "markdown",
   "metadata": {},
   "source": [
    "### 3 - Filling in the missing data\n",
    "\n",
    "##### - PROS:\n",
    "    - Potenial to save a lot of data for use in training a model\n",
    "##### - CONS\n",
    "    - Hardest to do and somewhat arbirary\n",
    "    - Potenrial to lead to false conclusions\n",
    "    \n",
    "###### Fill with same value:\n",
    "    - Good choice f NaN was a placeholder\n",
    "<img src=\"./assets/6/3-fill_1.png\" width=\"500\">\n",
    "\n",
    "    - Here NaN can be filled in with zero\n",
    "<img src=\"./assets/6/3-fill_2.png\" width=\"500\">\n",
    "\n",
    "###### Fill with interpolated or estimated value:\n",
    "    - Much harder and requires reasonable assumption\n",
    "<img src=\"./assets/6/3-fill_3.png\" width=\"500\">\n",
    "<img src=\"./assets/6/3-fill_4.png\" width=\"500\">"
   ]
  },
  {
   "cell_type": "code",
   "execution_count": null,
   "metadata": {},
   "outputs": [],
   "source": []
  },
  {
   "cell_type": "code",
   "execution_count": null,
   "metadata": {},
   "outputs": [],
   "source": []
  },
  {
   "cell_type": "code",
   "execution_count": null,
   "metadata": {},
   "outputs": [],
   "source": []
  },
  {
   "cell_type": "code",
   "execution_count": null,
   "metadata": {},
   "outputs": [],
   "source": []
  },
  {
   "cell_type": "code",
   "execution_count": null,
   "metadata": {},
   "outputs": [],
   "source": []
  },
  {
   "cell_type": "code",
   "execution_count": null,
   "metadata": {},
   "outputs": [],
   "source": []
  },
  {
   "cell_type": "code",
   "execution_count": null,
   "metadata": {},
   "outputs": [],
   "source": []
  },
  {
   "cell_type": "code",
   "execution_count": null,
   "metadata": {},
   "outputs": [],
   "source": []
  },
  {
   "cell_type": "code",
   "execution_count": null,
   "metadata": {},
   "outputs": [],
   "source": []
  },
  {
   "cell_type": "code",
   "execution_count": null,
   "metadata": {},
   "outputs": [],
   "source": []
  },
  {
   "cell_type": "code",
   "execution_count": null,
   "metadata": {},
   "outputs": [],
   "source": []
  },
  {
   "cell_type": "code",
   "execution_count": null,
   "metadata": {},
   "outputs": [],
   "source": []
  }
 ],
 "metadata": {
  "kernelspec": {
   "display_name": "Python 3",
   "language": "python",
   "name": "python3"
  },
  "language_info": {
   "codemirror_mode": {
    "name": "ipython",
    "version": 3
   },
   "file_extension": ".py",
   "mimetype": "text/x-python",
   "name": "python",
   "nbconvert_exporter": "python",
   "pygments_lexer": "ipython3",
   "version": "3.6.9"
  }
 },
 "nbformat": 4,
 "nbformat_minor": 2
}
