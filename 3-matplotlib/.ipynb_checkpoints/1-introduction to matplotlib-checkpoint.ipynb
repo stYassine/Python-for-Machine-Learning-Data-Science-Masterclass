{
 "cells": [
  {
   "cell_type": "markdown",
   "metadata": {},
   "source": [
    "- Visualizing data is crucial to quicklyunderstanding trends and relationships in your dataset.\n",
    "- Matplotlib is one of the most popular libraries for plotting with Python.\n",
    "<br><br>\n",
    "- Matplotlib is known as the \"Grandfather\" of plotting and visualization libraries for Python.\n",
    "- Many other visualization libraries are built directly off of Matplotlib (e.g. seaborn and pandas bui-in visualization).\n",
    "<br><br>\n",
    "- Matplotlib is heavily inspired by the plotting functions of the MatLab programming language.\n",
    "- It allows for the creation of almost any plot type and heavy customization.\n",
    "<br><br>\n",
    "- The ability to heavily customise a plot comes at a trade-off for beginners, sice it can be confusing to learn the Matplotlib syntax at first.\n",
    "- This is mainly due to the fact that there are actually two separate approaches to creating plots, functional based methods and OOP based methods.\n",
    "<br><br>\n",
    "- This Matplotlib section seeks to clear up any confusion by clearly separating out these twoapproaches.\n",
    "- 1 Matplotlib Basics:\n",
    "\t- Functional Method\n",
    "- 2 Matplotlib Figures and Subplots:\n",
    "\t- OOP Method"
   ]
  },
  {
   "cell_type": "markdown",
   "metadata": {},
   "source": [
    "#### - Topics Coverd\n",
    "- Matplotlib Basics and Functions\n",
    "- Matplotlib Figures\n",
    "- Matplotlib Subplots\n",
    "- Matplotlib Styling\n",
    "- Exercise"
   ]
  },
  {
   "cell_type": "markdown",
   "metadata": {},
   "source": [
    "- Specialized plot types such as histograms won't be coverd with matplotlib, since we will later learn how to use seaborn to easily create statistical plots.\n",
    "- it is important to learn matplotlib first however, since seaborn builds directly off of Matplotlib."
   ]
  },
  {
   "cell_type": "markdown",
   "metadata": {},
   "source": [
    "#### Two main goals with Matplotlib:\n",
    "- Be able to plot out a functional relationship:\n",
    "\t- y = 2x\n",
    "- Be able to plot out a relationship between raw data points:\n",
    "\t- x = [1, 2, 3, 4]\n",
    "\t- y = [2, 4, 6, 8]"
   ]
  },
  {
   "cell_type": "code",
   "execution_count": null,
   "metadata": {},
   "outputs": [],
   "source": []
  },
  {
   "cell_type": "code",
   "execution_count": null,
   "metadata": {},
   "outputs": [],
   "source": []
  },
  {
   "cell_type": "code",
   "execution_count": null,
   "metadata": {},
   "outputs": [],
   "source": []
  }
 ],
 "metadata": {
  "kernelspec": {
   "display_name": "Python 3",
   "language": "python",
   "name": "python3"
  },
  "language_info": {
   "codemirror_mode": {
    "name": "ipython",
    "version": 3
   },
   "file_extension": ".py",
   "mimetype": "text/x-python",
   "name": "python",
   "nbconvert_exporter": "python",
   "pygments_lexer": "ipython3",
   "version": "3.6.9"
  }
 },
 "nbformat": 4,
 "nbformat_minor": 2
}
