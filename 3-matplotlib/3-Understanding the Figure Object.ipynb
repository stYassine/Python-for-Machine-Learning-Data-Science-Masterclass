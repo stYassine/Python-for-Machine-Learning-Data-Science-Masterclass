{
 "cells": [
  {
   "cell_type": "markdown",
   "metadata": {},
   "source": [
    "- The more comprehensive Matplotlib OOP API makes use of a Figure object.\n",
    "- We then add axes to this Figure object and then plot on those axes.\n",
    "- This allows for very robust controls over the entire plot.\n",
    "<br><br>\n",
    "#### NOTE:\n",
    "- The Figure object we're about to show is technically not visible until you add axes to it."
   ]
  },
  {
   "cell_type": "markdown",
   "metadata": {},
   "source": [
    "- plt.figure()\n",
    "<img src=\"./assets/3/1-figure.png\" height=\"150px\" />\n",
    "<br><br>\n",
    "- plt.figure(figsize=(10, 10))\n",
    "<img src=\"./assets/3/2-figure_size.png\" height=\"150px\" />\n",
    "<br><br>\n",
    "\n",
    "- fig = plt.figure()\n",
    "- Blank canvas, waiting for a set of axes for plotting.\n",
    "<img src=\"./assets/3/1-figure.png\" height=\"150px\" />\n",
    "<br><br>\n",
    "\n",
    "- axes = figure.add_axes([0, 0, 1, 1])\n",
    "- [0, 0] : X and Y\n",
    "- [1, 1]: Width and Height\n",
    "<img src=\"./assets/3/3-fig_axes 1.png\" height=\"150px\" />\n",
    "<br><br>\n",
    "\n",
    "- axes.plot(x, y)\n",
    "<img src=\"./assets/3/4-figure plot 1.png\" height=\"150px\" />\n",
    "<br><br>\n",
    "\n",
    "- This methodology allows us to add in multiple axes as well as move and resize the axes.\n",
    "<img src =\"./assets/3/5-axes_method.png\" height=\"150px\" />"
   ]
  },
  {
   "cell_type": "markdown",
   "metadata": {},
   "source": [
    "- In theory we could set axes side by side using plt.figure() calls, but typically it is easier to use plt.subplots() function calls for this.\n",
    "- We'll explore multiple side by side plots in a future lecture, for now let's explore the Figure object methodology for Matplotlib!"
   ]
  },
  {
   "cell_type": "code",
   "execution_count": null,
   "metadata": {},
   "outputs": [],
   "source": []
  },
  {
   "cell_type": "code",
   "execution_count": null,
   "metadata": {},
   "outputs": [],
   "source": []
  },
  {
   "cell_type": "code",
   "execution_count": null,
   "metadata": {},
   "outputs": [],
   "source": []
  }
 ],
 "metadata": {
  "kernelspec": {
   "display_name": "Python 3",
   "language": "python",
   "name": "python3"
  },
  "language_info": {
   "codemirror_mode": {
    "name": "ipython",
    "version": 3
   },
   "file_extension": ".py",
   "mimetype": "text/x-python",
   "name": "python",
   "nbconvert_exporter": "python",
   "pygments_lexer": "ipython3",
   "version": "3.6.9"
  }
 },
 "nbformat": 4,
 "nbformat_minor": 2
}
