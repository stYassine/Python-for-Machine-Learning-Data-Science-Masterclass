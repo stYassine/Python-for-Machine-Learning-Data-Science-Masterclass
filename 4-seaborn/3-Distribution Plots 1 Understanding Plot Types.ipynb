{
 "cells": [
  {
   "cell_type": "markdown",
   "metadata": {},
   "source": [
    "- Distribution plots display a single continuous feature and help visualize properties such as deviation and average values.\n",
    "- There are 3 main distribution plot types:\n",
    "    - Rug Plot\n",
    "    - Histogram\n",
    "    - KDE Plot\n",
    "    \n",
    "- Lets explore the distribution of employee salaries.\n",
    "\n",
    "- One way to do this is through a rug plot.\n",
    "- A rug plot is the simplest distibution plot and merly adds a dash or tick line for every single value\n",
    "- The y-axis does not really have a meaning.\n",
    "<br><br>\n",
    "\n",
    "- Rug Plot of Salaries:\n",
    "\t- Adds a tick for every salary value\n",
    "<img src=\"./assets/3/1-rug_plot_1.png\" width=\"450px\"/>\n",
    "\n",
    "\t- Optionally adjust height of ticks\n",
    "    - Y-axis not interpretable\n",
    "    - Highest salary near &#36;160,000\n",
    "    - Many salaries between 60k - 120k\n",
    "    - Many ticks could be right on top of eachother, we can't tell!\n",
    "    - if we <b>count</b> how many ticks there are per various x-ranges, we can create a <b>Histogram.</b>\n",
    "<img src=\"./assets/3/1-rug_plot_2.png\" width=\"450px\" />\n",
    "\n",
    "<br><br>\n",
    "    \n",
    "- We place the rug plot ticks\n",
    "<img src=\"./assets/3/1-rug_plot_3.png\" width=\"450px\"  />\n",
    "\n",
    "- Choose a number of \"bins\", we'll pick 3\n",
    "<img src=\"./assets/3/1-rug_plot_4.png\" width=\"450px\"  />\n",
    "\n",
    "- Count ticks per bin\n",
    "<img src=\"./assets/3/1-rug_plot_5.png\" width=\"450px\"  />\n",
    "\n",
    "- Create a bar as high as count\n",
    "<img src=\"./assets/3/1-rug_plot_6.png\" width=\"450px\"  />\n",
    "<img src=\"./assets/3/1-rug_plot_7.png\" width=\"450px\"  />\n",
    "\n",
    "- Histogram is complete\n",
    "<img src=\"./assets/3/1-rug_plot_8.png\" width=\"450px\"  />\n",
    "\n",
    "- Y-axis can also be normalized as percent\n",
    "<img src=\"./assets/3/1-rug_plot_9.png\" width=\"450px\"  />\n",
    "\n",
    "- Changing number of bins shows more detail instead of general trends.\n",
    "<img src=\"./assets/3/1-rug_plot_10.png\" width=\"450px\"  />\n",
    "<img src=\"./assets/3/1-rug_plot_11.png\" width=\"450px\"  />\n",
    "\n",
    "- Seaborn also allows us to add on a KDE plot curve on top of a histogram.\n",
    "<img src=\"./assets/3/1-rug_plot_12.png\" width=\"450px\"  />"
   ]
  },
  {
   "cell_type": "markdown",
   "metadata": {},
   "source": [
    "- KDE stands for Kernel Density Estimation.\n",
    "- It is a method of estimating a probability density function of a random variable.\n",
    "- In simpler terms, it is a way of estimating a continuous probaibility curve for a finite data sample.\n",
    "\n",
    "<br><br>\n",
    "- KDE Plots are best understood by visualizing their \"construction\".\n",
    "- Let's start with a rug plot...\n",
    "\n",
    "<img src=\"./assets/3/2-kde_plot_1.png\" width=\"450px\" />\n",
    "\n",
    "- You can change the Kernel and bandwidth used which can make your KDE show more or less of the variance contained in the data."
   ]
  },
  {
   "cell_type": "code",
   "execution_count": null,
   "metadata": {},
   "outputs": [],
   "source": []
  },
  {
   "cell_type": "code",
   "execution_count": null,
   "metadata": {},
   "outputs": [],
   "source": []
  },
  {
   "cell_type": "code",
   "execution_count": null,
   "metadata": {},
   "outputs": [],
   "source": []
  }
 ],
 "metadata": {
  "kernelspec": {
   "display_name": "Python 3",
   "language": "python",
   "name": "python3"
  },
  "language_info": {
   "codemirror_mode": {
    "name": "ipython",
    "version": 3
   },
   "file_extension": ".py",
   "mimetype": "text/x-python",
   "name": "python",
   "nbconvert_exporter": "python",
   "pygments_lexer": "ipython3",
   "version": "3.6.9"
  }
 },
 "nbformat": 4,
 "nbformat_minor": 2
}
