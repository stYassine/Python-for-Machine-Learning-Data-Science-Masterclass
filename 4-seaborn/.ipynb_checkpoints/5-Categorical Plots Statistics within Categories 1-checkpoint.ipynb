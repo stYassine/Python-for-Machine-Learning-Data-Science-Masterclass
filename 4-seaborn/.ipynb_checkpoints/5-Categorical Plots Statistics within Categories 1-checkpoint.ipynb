{
 "cells": [
  {
   "cell_type": "markdown",
   "metadata": {},
   "source": [
    "- The categorical plots discessed here will display a statistical metrics <b>per</b> a category.\n",
    "- For example mean value per category or a count of the number of rows <b>per</b> category.\n",
    "- It is the visualization equivalent of a groupby() call."
   ]
  },
  {
   "cell_type": "markdown",
   "metadata": {},
   "source": [
    "- The two main tyoes of plots for this are:\n",
    "    - countplot(): Counts number of rows per category.\n",
    "    - barplot(): General form of displaying any choosen metric per category."
   ]
  },
  {
   "cell_type": "markdown",
   "metadata": {},
   "source": [
    "- Countplot for corporate divisions\n",
    "<img src=\"./assets/5/1-countplot_1.png\" />\n",
    "\n",
    "- Countplot for education level\n",
    "<img src=\"./assets/5/1-countplot_2.png\" />\n",
    "\n",
    "- Countplot with additional hue separation\n",
    "<img src=\"./assets/5/1-countplot_3.png\" />"
   ]
  },
  {
   "cell_type": "markdown",
   "metadata": {},
   "source": [
    "- The barplot is the general form that allows you to choose any measure or estimator for for the x axis.\n",
    "- We could plot the mean value and standard deviation per category instead."
   ]
  },
  {
   "cell_type": "markdown",
   "metadata": {},
   "source": [
    "### Important Note!\n",
    "- Be very careful with these plots, since the bar is filled and continuous, a viewer may interpret continuity alog the y-axis which may be incorrect!\n",
    "- Always make sure to add additional labeling and explanation for these plots!"
   ]
  },
  {
   "cell_type": "markdown",
   "metadata": {},
   "source": [
    "- Barplot showing mean and SD bar\n",
    "<img src=\"./assets/5/2-barplot_1.png\" />\n",
    "\n",
    "- A simple table is probably better.\n",
    "<img src=\"./assets/5/2-barplot_2.png\" />\n"
   ]
  },
  {
   "cell_type": "code",
   "execution_count": null,
   "metadata": {},
   "outputs": [],
   "source": []
  },
  {
   "cell_type": "code",
   "execution_count": null,
   "metadata": {},
   "outputs": [],
   "source": []
  },
  {
   "cell_type": "code",
   "execution_count": null,
   "metadata": {},
   "outputs": [],
   "source": []
  }
 ],
 "metadata": {
  "kernelspec": {
   "display_name": "Python 3",
   "language": "python",
   "name": "python3"
  },
  "language_info": {
   "codemirror_mode": {
    "name": "ipython",
    "version": 3
   },
   "file_extension": ".py",
   "mimetype": "text/x-python",
   "name": "python",
   "nbconvert_exporter": "python",
   "pygments_lexer": "ipython3",
   "version": "3.6.9"
  }
 },
 "nbformat": 4,
 "nbformat_minor": 2
}
