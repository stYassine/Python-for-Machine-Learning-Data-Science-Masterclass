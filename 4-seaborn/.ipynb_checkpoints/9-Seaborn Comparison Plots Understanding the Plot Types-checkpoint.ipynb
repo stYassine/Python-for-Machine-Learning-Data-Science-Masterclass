{
 "cells": [
  {
   "cell_type": "markdown",
   "metadata": {},
   "source": [
    "- Comparison plots are essentially 2-dimensional versions of the plots we've learned about so far.\n",
    "- The two main plots types discussed here:\n",
    "    - joinplot()\n",
    "    - pairplot()"
   ]
  },
  {
   "cell_type": "markdown",
   "metadata": {},
   "source": [
    "### joinplot()\n",
    "- We can map histograms to each feature of a scatterplot to clarify the distribution within each feature.\n",
    "- We can also adjust the scatterplot to be a hex plot or a 2D KDE plot.\n",
    "<br><br>\n",
    "- Histograms with Scatterplot:\n",
    "<img src=\"./assets/9/1-joinplot_1.png\" />\n",
    "- Histograms with hexagons:\n",
    "- Hexagons are dark the more points fall into their area\n",
    "- Hexagons are useful when many points overlap\n",
    "<img src=\"./assets/9/1-joinplot_2.png\" />\n",
    "- 2D KDE plots show shaded distribution between both KDEs:\n",
    "<img src=\"./assets/9/1-joinplot_3.png\" />"
   ]
  },
  {
   "cell_type": "markdown",
   "metadata": {},
   "source": [
    "### pairplot():\n",
    "- The pairplot() is a quick way to compare all numerical columns in a DataFrame.\n",
    "- It automatically creates a histogram for each column and a scatterplot comparison between all possible combinations of columns.\n",
    "\n",
    "##### Warning!\n",
    "- pairplot() can be CPU and RAM intensive for large DataFrames with many columns.\n",
    "- It is a good idea to first filter down to only the columns you are intreseted in.\n",
    "\n",
    "- pairplot()\n",
    "<img src=\"./assets/9/2-pairplot_1.png\" width=\"600px\" />\n",
    "<img src=\"./assets/9/2-pairplot_2.png\" width=\"600px\" />\n",
    "<img src=\"./assets/9/2-pairplot_3.png\" width=\"600px\" />"
   ]
  },
  {
   "cell_type": "code",
   "execution_count": null,
   "metadata": {},
   "outputs": [],
   "source": []
  },
  {
   "cell_type": "code",
   "execution_count": null,
   "metadata": {},
   "outputs": [],
   "source": []
  },
  {
   "cell_type": "code",
   "execution_count": null,
   "metadata": {},
   "outputs": [],
   "source": []
  }
 ],
 "metadata": {
  "kernelspec": {
   "display_name": "Python 3",
   "language": "python",
   "name": "python3"
  },
  "language_info": {
   "codemirror_mode": {
    "name": "ipython",
    "version": 3
   },
   "file_extension": ".py",
   "mimetype": "text/x-python",
   "name": "python",
   "nbconvert_exporter": "python",
   "pygments_lexer": "ipython3",
   "version": "3.6.9"
  }
 },
 "nbformat": 4,
 "nbformat_minor": 2
}
