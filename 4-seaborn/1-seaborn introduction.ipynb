{
 "cells": [
  {
   "cell_type": "markdown",
   "metadata": {},
   "source": [
    "- Seaborn is a statistical plotting library that is specifically designed to interact well with Pandas Dataframes to create common statistical plot Types.\n",
    "- Seaborn is built directly off of Matplotlib but uses a simpler \"one-line\" syntax.\n",
    "<br><br>\n",
    "- When using seaborn, we trade-off customization for ease of use.\n",
    "- However, since its built directly off of Matplotlib, we can actually still male plt method calls to directly affect the resulting seaborn plot.\n",
    "<br><br>\n",
    "- A typicall seaborn plot uses one line of code, for Example:\n",
    "    - <b> sns.scatterplot(x='salary',y='sales',data=df)</b>\n",
    "- Seaborn takes in a pandas DataFrame and then the user provides the corresponding string column names for x and y (depending on the plot type)"
   ]
  },
  {
   "cell_type": "markdown",
   "metadata": {},
   "source": [
    "- In this section we focus on understanding the use cases for each plot and the seaborn syntax for them.\n",
    "- Common student question: <b> How do i choose which plot to use?</b>\n",
    "<br><br>\n",
    "- It depends on what question or relationsihp you are trying to understand.\n",
    "- Google Image Searching \"Choosing a plot visualization\" will yield many useful flowcharts.\n",
    "- At the end of this section, you will have a good intuition of which plots to use.\n"
   ]
  },
  {
   "cell_type": "markdown",
   "metadata": {},
   "source": [
    "#### - Section Topics:\n",
    "    - Scatter Plots\n",
    "    - Distribution Plots\n",
    "    - Categorical Plots\n",
    "    - Comparison Plots\n",
    "    - Seaborn Grids\n",
    "    - Matrix Plots"
   ]
  },
  {
   "cell_type": "code",
   "execution_count": null,
   "metadata": {},
   "outputs": [],
   "source": []
  },
  {
   "cell_type": "code",
   "execution_count": null,
   "metadata": {},
   "outputs": [],
   "source": []
  },
  {
   "cell_type": "code",
   "execution_count": null,
   "metadata": {},
   "outputs": [],
   "source": []
  }
 ],
 "metadata": {
  "kernelspec": {
   "display_name": "Python 3",
   "language": "python",
   "name": "python3"
  },
  "language_info": {
   "codemirror_mode": {
    "name": "ipython",
    "version": 3
   },
   "file_extension": ".py",
   "mimetype": "text/x-python",
   "name": "python",
   "nbconvert_exporter": "python",
   "pygments_lexer": "ipython3",
   "version": "3.6.9"
  }
 },
 "nbformat": 4,
 "nbformat_minor": 2
}
