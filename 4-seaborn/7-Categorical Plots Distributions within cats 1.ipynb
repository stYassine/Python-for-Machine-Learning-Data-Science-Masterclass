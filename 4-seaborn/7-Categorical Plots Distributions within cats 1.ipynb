{
 "cells": [
  {
   "cell_type": "markdown",
   "metadata": {},
   "source": [
    "- We've explored distibution plots for a single feature, but what if we want to compare distibutions across categories ?\n",
    "- For example, instead of the distibution of everyone's salary, we can compare the distributions of salaries <b>per</b> level of education.\n",
    "<br><br>\n",
    "- We will separate out each category, then create the distribution visualization.\n",
    "- Let's explore what plot types we have available...\n",
    "<br><br>\n",
    "- Disribution within Categories\n",
    "    - Boxplot\n",
    "    - Violinplot\n",
    "    - Swampplot\n",
    "    - Boxenplot (Letter-Value Plot)\n",
    "- Let's explore understanding these plots on the previous salary dataset.\n"
   ]
  },
  {
   "cell_type": "markdown",
   "metadata": {},
   "source": [
    "- The Boxplot displays the distribution of a continuous variable.\n",
    "- It does this through the use of quartiles.\n",
    "- Quartiles separate out the data into 4 equal number of data points:\n",
    "\t- 25% of data points are in bottom quartile.\n",
    "\t- 50th percentile (Q2) is the median.\n",
    "    \n",
    "<br><br>\n",
    "- Boxplot on single feature\n",
    "<img src=\"./assets/7/1-boxplot_1.png\" width=\"500\" />\n",
    "- Median splits data in half\n",
    "<img src=\"./assets/7/1-boxplot_2.png\" width=\"500\" />\n",
    "- IQR defines the box width\n",
    "- 50% of all data points are inside the box\n",
    "- Q1 is the 25th percentile\n",
    "<img src=\"./assets/7/1-boxplot_3.png\" width=\"500\" />\n",
    "\n",
    "- 25% of data points are below Q1\n",
    "- Q3 is the 75th percentile\n",
    "<img src=\"./assets/7/1-boxplot_4.png\" width=\"500\" />\n",
    "\n",
    "- The \"whiskers\" are defined by 4.5 x IQR\n",
    "<img src=\"./assets/7/1-boxplot_5.png\" width=\"500\" />\n",
    "\n",
    "- Outside of the whiskers are outliers\n",
    "<img src=\"./assets/7/1-boxplot_6.png\" width=\"500\" />\n",
    "\n",
    "- Boxplot quickly gives statistical distribution information in a visual format:\n",
    "<img src=\"./assets/7/1-boxplot_7.png\" width=\"500\" />\n",
    "\n",
    "\n",
    "- Boxplot can be oriented vertically or horizontally\n",
    "<img src=\"./assets/7/1-boxplot_8.png\" width=\"500\" />\n",
    "\n",
    "- We can create a box plot <b>per</b> Category!\n",
    "<img src=\"./assets/7/1-boxplot_9.png\" width=\"600\" />\n",
    "<img src=\"./assets/7/1-boxplot_10.png\" width=\"600\" />"
   ]
  },
  {
   "cell_type": "markdown",
   "metadata": {},
   "source": [
    "- The Violin plot plays a similar role as the box plot.\n",
    "- It displays the probability density across the data using a KDE\n",
    "- We can imagine it as a mirrored KDE plot."
   ]
  },
  {
   "cell_type": "markdown",
   "metadata": {},
   "source": [
    "- We take the KDE of a single feature:\n",
    "<img src=\"./assets/7/2-violin_plot_1.png\" width=\"500\" />\n",
    "- We could then \"mirror\" it:\n",
    "<img src=\"./assets/7/2-violin_plot_2.png\" width=\"500\" />\n",
    "- Then combine it to get the violin plot:\n",
    "<img src=\"./assets/7/2-violin_plot_3.png\" width=\"500\" />\n",
    "<img src=\"./assets/7/2-violin_plot_4.png\" width=\"500\" />\n",
    "- The violin plots can then be created <b>per</b> category:\n",
    "<img src=\"./assets/7/2-violin_plot_5.png\" width=\"500\" />\n",
    "- A few more less common categorical distribution plots are the swarmplot and the boxenplot.\n",
    "- Let's quickly explore these plot types."
   ]
  },
  {
   "cell_type": "markdown",
   "metadata": {},
   "source": [
    "#### Swarmplot\n",
    "- Swarmplot is very simple and simply shows all the data points in the distribution.\n",
    "- For very large data sets, it won't show all the points, but will display the general distribution of them.\n",
    "- Swarmplot\n",
    "<img src=\"./assets/7/3-swamp_plot_1.png\" />\n",
    "- Swarmplot per category\n",
    "<img src=\"./assets/7/3-swamp_plot_2.png\" />\n",
    "- change size of points to show more\n",
    "<img src=\"./assets/7/3-swamp_plot_3.png\" />\n",
    "\n"
   ]
  },
  {
   "cell_type": "markdown",
   "metadata": {},
   "source": [
    "### Boxenplot\n",
    "- The boxenplot (Letter-value plot) is a relatively new plot developed in 2011 by Heike Hofmann, Karen Kafadar, and Hadley Wickham.\n",
    "- Its mainly designed as an expansion upon the normal box plot.\n",
    "- Note that the boxenplot is currently very uncommon, in fact a Google search will often auto-correct this to a \"boxplot\" call.\n",
    "- Only use this plot type if you know your audience is fimiliar with it.\n",
    "- Let's briefly explore the boxenplot and its benefits.\n",
    "\n",
    "- Using a system of letter-values we can use multiple quantiles instead of strictly quartiles.\n",
    "<img src=\"./assets/7/4-boxenplot_1.png\" />\n",
    "- Boxenplot showing letter-value quantiles to display against a standard boxplot:\n",
    "<img src=\"./assets/7/4-boxenplot_2.png\" />\n",
    "- Boxenplot in seaborn\n",
    "<img src=\"./assets/7/4-boxenplot_3.png\" />\n",
    "<br><br>\n",
    "- Keep in mind the main purpose of data visualization is to inform, not confuse or show-off various esoteric plots!"
   ]
  },
  {
   "cell_type": "code",
   "execution_count": null,
   "metadata": {},
   "outputs": [],
   "source": []
  },
  {
   "cell_type": "code",
   "execution_count": null,
   "metadata": {},
   "outputs": [],
   "source": []
  },
  {
   "cell_type": "code",
   "execution_count": null,
   "metadata": {},
   "outputs": [],
   "source": []
  }
 ],
 "metadata": {
  "kernelspec": {
   "display_name": "Python 3",
   "language": "python",
   "name": "python3"
  },
  "language_info": {
   "codemirror_mode": {
    "name": "ipython",
    "version": 3
   },
   "file_extension": ".py",
   "mimetype": "text/x-python",
   "name": "python",
   "nbconvert_exporter": "python",
   "pygments_lexer": "ipython3",
   "version": "3.6.9"
  }
 },
 "nbformat": 4,
 "nbformat_minor": 2
}
